{
 "cells": [
  {
   "cell_type": "markdown",
   "id": "b15d14dd-5bab-43ae-9e9e-3c57da9ee40f",
   "metadata": {},
   "source": [
    "# ***Formatting***\n",
    "\n",
    "1. **Basic Calculations**:\n",
    "    Write a Python script that performs basic arithmetic operations (addition, subtraction, multiplication, division) and prints the results.\n",
    "\n",
    "2. **String Manipulation**:\n",
    "    Create a program that takes a string input from the user, then prints the string in uppercase, lowercase, and reversed.\n",
    "\n",
    "3. **List Operations**:\n",
    "    Write a function that takes a list of numbers and returns the sum, average, and maximum value of the list.\n",
    "\n",
    "4. **File Handling**:\n",
    "    Create a script that reads a text file and counts the number of words, lines, and characters."
   ]
  },
  {
   "cell_type": "markdown",
   "id": "b341d847-2b3a-458c-92ce-fe56ddefdb77",
   "metadata": {},
   "source": [
    "### Unordered List \n",
    "- Item 1\n",
    "- Item 2\n",
    "\n",
    "### Ordered List \n",
    "1. Item 1\n",
    "2. Item 2"
   ]
  },
  {
   "cell_type": "markdown",
   "id": "58f6d694-f990-415d-8927-68d2a3c088e6",
   "metadata": {},
   "source": [
    "### Links\n",
    "\n",
    "Inline Link:\n",
    "[My Git Hub Link](https://github.com/Jerrald6?tab=repositories)\n",
    "\n",
    "Reference Link:\n",
    "[YouTube][1]\n",
    "\n",
    "[1]:https://www.youtube.com/\n"
   ]
  },
  {
   "cell_type": "markdown",
   "id": "6e76a580-eb65-4713-ae91-12c4e1838134",
   "metadata": {},
   "source": [
    "https://github.com/Jerrald6?tab=repositories"
   ]
  },
  {
   "cell_type": "markdown",
   "id": "f61ac260-c6d3-49d5-bd1e-d45e3c859d35",
   "metadata": {},
   "source": [
    "### Images\n",
    "\n",
    "![Rajini](https://preview.redd.it/the-90s-were-the-golden-period-for-rajinis-superstardom-v0-ao594mz23yea1.jpg?width=1080&crop=smart&auto=webp&s=9555f0f4f3dcd565994af0189b9bff5a74e6b9fd)\n",
    "\n",
    "![Vijay](https://encrypted-tbn0.gstatic.com/images?q=tbn:ANd9GcTns46YH2PP8fmSgUux0ueJoq5wXfKN7Grxmw&s)\n",
    ")"
   ]
  },
  {
   "cell_type": "markdown",
   "id": "7202bacd-6210-4871-9ff0-9364c69ef510",
   "metadata": {},
   "source": [
    "### Blockquote\n",
    "\n",
    "Famous quote \n",
    "> \"Try until you succeed, Never Give up\"\n",
    ">\n",
    "> Multiple Line quote\n",
    ">\n",
    ">Think of a block quote as a way to \"box in\" a section of text, making it stand out visually when you view the document.\r\n"
   ]
  },
  {
   "cell_type": "markdown",
   "id": "39cdc2c3-459d-43f2-b43a-10e5da6dceb9",
   "metadata": {},
   "source": [
    "### Inline code\n",
    "\n",
    "Key Points:\n",
    "\n",
    "Backticks: Use the backtick character ` (usually located on the same key as the tilde ~ on your keyboard) to wrap your inline code.\n",
    "\n",
    "No spaces: Make sure there are no spaces between the backticks and the code.\n",
    "\n",
    "**To print a message in Python, use the `print()` function.**\r\n"
   ]
  },
  {
   "cell_type": "markdown",
   "id": "59befd88-9dad-4e69-9b80-75373ecc98ee",
   "metadata": {},
   "source": [
    "### Horizontal Line\n",
    "\n",
    "##### Combustor\n",
    "---\n",
    "This is a hot end component in gas Turbine engine"
   ]
  },
  {
   "cell_type": "markdown",
   "id": "793b7819-243d-4c3b-be07-25325815e069",
   "metadata": {},
   "source": [
    "### Table\n",
    "\n",
    "|Header 1|Header 2|Header 3|\n",
    "|:-|:-:|-:|\n",
    "|a11|a12|a13|\n",
    "|a21|a22|a23|\n"
   ]
  },
  {
   "cell_type": "code",
   "execution_count": null,
   "id": "17c0771b-faf5-4770-ad8e-d2a2bf381ec3",
   "metadata": {},
   "outputs": [],
   "source": []
  }
 ],
 "metadata": {
  "kernelspec": {
   "display_name": "Python 3 (ipykernel)",
   "language": "python",
   "name": "python3"
  },
  "language_info": {
   "codemirror_mode": {
    "name": "ipython",
    "version": 3
   },
   "file_extension": ".py",
   "mimetype": "text/x-python",
   "name": "python",
   "nbconvert_exporter": "python",
   "pygments_lexer": "ipython3",
   "version": "3.12.4"
  }
 },
 "nbformat": 4,
 "nbformat_minor": 5
}
